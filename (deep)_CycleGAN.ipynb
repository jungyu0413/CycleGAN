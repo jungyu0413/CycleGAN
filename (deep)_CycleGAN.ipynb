{
 "cells": [
  {
   "cell_type": "markdown",
   "id": "dc81fce4",
   "metadata": {},
   "source": [
    "#### Module import"
   ]
  },
  {
   "cell_type": "code",
   "execution_count": 1,
   "id": "83f8b364",
   "metadata": {},
   "outputs": [],
   "source": [
    "import os\n",
    "import torch\n",
    "import torch.nn as nn\n",
    "import numpy as np\n",
    "import cv2\n",
    "import matplotlib.pyplot as plt"
   ]
  },
  {
   "cell_type": "markdown",
   "id": "dc876a7b",
   "metadata": {},
   "source": [
    "#### Generator"
   ]
  },
  {
   "cell_type": "code",
   "execution_count": 4,
   "id": "645a3094",
   "metadata": {},
   "outputs": [],
   "source": [
    "# skip connection\n",
    "class ResidualBlock(nn.Module):\n",
    "    def __init__(self, in_channels): # 인자로 in_channels 받는다.\n",
    "        super(ResidualBlock, self).__init__() # 상속받은 Module 함수 사용.\n",
    "        self.block = nn.Sequential(\n",
    "            nn.ReflectionPad2d(1), # padding을 양끝단을 반사시켜서 사용\n",
    "            nn.Conv2d(in_channels, in_channels, 3),\n",
    "            nn.InstanceNorm2d(in_channels),# mini-batch의 이미지 개별의 분포를 사용\n",
    "            nn.ReLU(inplace=True),\n",
    "            nn.Conv2d(in_channels, in_chnnels, 3),\n",
    "            nn.InstanceNorm2d(in_channels)\n",
    "        )\n",
    "    \n",
    "    def forward(self, x) :\n",
    "        return x + self.block(x) # identity x와 net(x)를 더해준다."
   ]
  },
  {
   "cell_type": "code",
   "execution_count": 5,
   "id": "cfbc473a",
   "metadata": {},
   "outputs": [],
   "source": [
    "class GeneratorResNet(nn.Module):\n",
    "    def __init__(self, in_channels, num_residual_blocks=9):\n",
    "        super(GeneratorResNet, self).__init__()\n",
    "        \n",
    "        # 3*256*256 -> 64*256*256\n",
    "        out_channels=64\n",
    "        self.conv = nn.Sequential(\n",
    "            nn.RefloctionPad2d(in_channels), # 3-padding\n",
    "            nn.Conv2d(in_channels, out_channels, 2*in_channels+1), # 7*7 conv, # channel 변동없음.\n",
    "            nn.InstanceNorm(out_channels),\n",
    "            nn.ReLU(inplace=True)) # 기존 데이터 대체\n",
    "        \n",
    "        channels = out_chabbels\n",
    "        \n",
    "        # encoder structure\n",
    "        # downsampling : 64*256*256 -> \n",
    "        self.down = []\n",
    "        for _ in range(2): # 2회 반복\n",
    "            out_channels = channels * 2 # 1-step : 64*2 = 128\n",
    "            self.down += [              # 2-step : 128*2 = 256 \n",
    "                nn.Conv2d(channels, out_channels, 3, stride=2, padding=1),\n",
    "                # stride=2 1/2로 down size(feature map)\n",
    "                nn.InstanceNorm2d(out_channels),\n",
    "                nn.ReLU(inplace=True)\n",
    "            ]\n",
    "            channels = out_channels\n",
    "        self.down = nn.Sequential(*self.down) # down model을 sequential에 묶기\n",
    "        \n",
    "        self.trans = [ResidualBlock(channels) for _ in range(num_residual_blocks)]\n",
    "        # 9개의 residual block\n",
    "        self.trans = nn.Sequential(*self.down)\n",
    "        \n",
    "        # upsampling\n",
    "        self.up = []\n",
    "        for _ in range(2):\n",
    "            out_channels = in_channels // 2 # 늘어난 채널 수를 1/2씩 줄인다.\n",
    "        self.up += [\n",
    "            nn.Upsample(scale_factor=2), # binear interpolation\n",
    "            nn.Conv2d(channels, out_channels, 3, stride=1, padding=1), # channel 변동없음.\n",
    "            nn.InstanceNorm2d(out_channels),\n",
    "            nn.ReLU(inplace=True),\n",
    "        ]\n",
    "        self.up = nn.Sequential(*self.up)\n",
    "        \n",
    "        self.out = nn.Sequential(\n",
    "            nn.ReflectionPad2d(in_channels), # 7 padding\n",
    "            nn.Conv2d(channels, in_channels, 2*in_channels+1),# channel 변동없음.\n",
    "            nn.Tanh()\n",
    "        )\n",
    "        \n",
    "    def forward(self, x):\n",
    "        x = self.conv(x)\n",
    "        x = self.down(x)\n",
    "        x = self.trans(x)\n",
    "        x = self.up(x)\n",
    "        x = self.out(x)\n",
    "        return"
   ]
  },
  {
   "cell_type": "markdown",
   "id": "849144b5",
   "metadata": {},
   "source": [
    "#### Discriminator"
   ]
  },
  {
   "cell_type": "code",
   "execution_count": 6,
   "id": "2b6387fd",
   "metadata": {},
   "outputs": [],
   "source": [
    "class Discriminator(nn.Module):\n",
    "    def __init__(self, in_channels):\n",
    "        super(Discriminator, self).__init__()\n",
    "        \n",
    "        self.model = nn.Sequential(\n",
    "            *self.block\n",
    "        )"
   ]
  },
  {
   "cell_type": "code",
   "execution_count": null,
   "id": "5450fd11",
   "metadata": {},
   "outputs": [],
   "source": []
  },
  {
   "cell_type": "code",
   "execution_count": null,
   "id": "8686b0e6",
   "metadata": {},
   "outputs": [],
   "source": []
  },
  {
   "cell_type": "code",
   "execution_count": null,
   "id": "ebefd8ad",
   "metadata": {},
   "outputs": [],
   "source": []
  },
  {
   "cell_type": "code",
   "execution_count": null,
   "id": "47aeaa94",
   "metadata": {},
   "outputs": [],
   "source": []
  },
  {
   "cell_type": "code",
   "execution_count": null,
   "id": "022d513a",
   "metadata": {},
   "outputs": [],
   "source": []
  },
  {
   "cell_type": "code",
   "execution_count": null,
   "id": "8fa6c8e0",
   "metadata": {},
   "outputs": [],
   "source": []
  },
  {
   "cell_type": "code",
   "execution_count": null,
   "id": "d942b05d",
   "metadata": {},
   "outputs": [],
   "source": []
  }
 ],
 "metadata": {
  "kernelspec": {
   "display_name": "deep_first",
   "language": "python",
   "name": "deep_first"
  },
  "language_info": {
   "codemirror_mode": {
    "name": "ipython",
    "version": 3
   },
   "file_extension": ".py",
   "mimetype": "text/x-python",
   "name": "python",
   "nbconvert_exporter": "python",
   "pygments_lexer": "ipython3",
   "version": "3.8.12"
  }
 },
 "nbformat": 4,
 "nbformat_minor": 5
}
